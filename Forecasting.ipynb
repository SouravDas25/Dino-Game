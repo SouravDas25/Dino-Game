{
 "cells": [
  {
   "cell_type": "code",
   "execution_count": 17,
   "id": "81e8c5c0",
   "metadata": {
    "scrolled": true
   },
   "outputs": [
    {
     "data": {
      "text/plain": [
       "(5, 2, 4)"
      ]
     },
     "execution_count": 17,
     "metadata": {},
     "output_type": "execute_result"
    }
   ],
   "source": [
    "import pandas as pd\n",
    "import requests\n",
    "\n",
    "weather_data = pd.read_csv(\"weather.csv\")\n",
    "\n",
    "weather_data[\"Station.Code\"].unique()\n",
    "\n",
    "weather_data\n",
    "query = {'c1':'Birmingham', 'action':'gpcm', 'cp':''}\n",
    "response = requests.get(\"https://www.latlong.net/_spm4.php\", params=query)\n",
    "response.text"
   ]
  }
 ],
 "metadata": {
  "kernelspec": {
   "display_name": "Python 3 (ipykernel)",
   "language": "python",
   "name": "python3"
  },
  "language_info": {
   "codemirror_mode": {
    "name": "ipython",
    "version": 3
   },
   "file_extension": ".py",
   "mimetype": "text/x-python",
   "name": "python",
   "nbconvert_exporter": "python",
   "pygments_lexer": "ipython3",
   "version": "3.9.2"
  }
 },
 "nbformat": 4,
 "nbformat_minor": 5
}
